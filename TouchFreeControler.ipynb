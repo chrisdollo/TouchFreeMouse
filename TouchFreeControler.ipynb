{
 "cells": [
  {
   "cell_type": "code",
   "execution_count": 2,
   "id": "e303f81f-0490-457c-a9bc-baee9d523a1f",
   "metadata": {},
   "outputs": [],
   "source": [
    "import cv2\n",
    "import mediapipe as mp\n",
    "import numpy as np\n",
    "import pyautogui\n",
    "import tkinter as tk\n",
    "from screeninfo import get_monitors\n",
    "\n"
   ]
  },
  {
   "cell_type": "code",
   "execution_count": 3,
   "id": "1786b7c9-07f3-4832-b30f-9e8a0fa756b1",
   "metadata": {},
   "outputs": [],
   "source": [
    "def euclidean_distance(x1, x2):\n",
    "    total = 0\n",
    "    for i in range(1, len(x1)):\n",
    "        total += (x1[i]-x2[i])**2\n",
    "    return total ** 0.5"
   ]
  },
  {
   "cell_type": "code",
   "execution_count": 4,
   "id": "33d00f62-3a5c-4093-b4d3-24dad5a5a3d1",
   "metadata": {},
   "outputs": [],
   "source": [
    "def stateDistance(vector):\n",
    "    if len(vector) == 3:\n",
    "        a1 = euclidean_distance(vector[0], vector[1])\n",
    "        a2 = euclidean_distance(vector[1], vector[2])\n",
    "        return [a1, a2]\n",
    "    if len(vector) == 4:\n",
    "        a1 = euclidean_distance(vector[0], vector[1])\n",
    "        a2 = euclidean_distance(vector[1], vector[2])\n",
    "        a3 = euclidean_distance(vector[2], vector[3])\n",
    "        return [a1, a2, a3]"
   ]
  },
  {
   "cell_type": "code",
   "execution_count": 5,
   "id": "8749da34-a8eb-4d52-905a-473c448eeddc",
   "metadata": {},
   "outputs": [],
   "source": [
    "class HandDetector:\n",
    "    def __init__(self, mode=False, maxHands=1, modelC=1, detectionCon=0.5, trackCon=0.5):\n",
    "        self.mode = mode\n",
    "        self.maxHands = maxHands\n",
    "        self.detectionCon = detectionCon\n",
    "        self.modelC = modelC\n",
    "        self.trackCon = trackCon\n",
    "\n",
    "        self.mpHands = mp.solutions.hands\n",
    "        self.hands = self.mpHands.Hands(self.mode, self.maxHands, self.modelC, self.detectionCon, self.trackCon)\n",
    "        # self.mpDraw = mp.solutions.drawing_utils\n",
    "\n",
    "    def findHands(self, img):\n",
    "        imgRGB = cv2.cvtColor(img, cv2.COLOR_BGR2RGB)\n",
    "        self.results = self.hands.process(imgRGB)\n",
    "\n",
    "        # if self.results.multi_hand_landmarks:\n",
    "        #     for handLandmarks in self.results.multi_hand_landmarks:\n",
    "        #         self.mpDraw.draw_landmarks(img, handLandmarks, self.mpHands.HAND_CONNECTIONS, self.mpDraw.DrawingSpec(color=(255,0,0), thickness=2, circle_radius=2), self.mpDraw.DrawingSpec(color=(0,255,0), thickness=2, circle_radius=2))\n",
    "\n",
    "        return img\n",
    "\n",
    "\n",
    "    def findPosition(self, img):\n",
    "        landmarkList = []\n",
    "\n",
    "        if self.results.multi_hand_landmarks:\n",
    "            myHand = self.results.multi_hand_landmarks[0]\n",
    "            \n",
    "            for id, lm in enumerate(myHand.landmark):\n",
    "                h,w,c = img.shape\n",
    "                cx, cy = int(lm.x*w,), int(lm.y*h)\n",
    "                landmarkList.append([id, cx,cy])\n",
    "        return landmarkList\n",
    "\n",
    "    def naturalGrasps_gestureRecognizer(self, landmarkList):\n",
    "        handGrasps = \"fesses\"\n",
    "\n",
    "        \n",
    "\n",
    "\n",
    "        return handGrasps"
   ]
  },
  {
   "cell_type": "code",
   "execution_count": 10,
   "id": "f8162ae2",
   "metadata": {},
   "outputs": [],
   "source": [
    "# Changes position of the mouse \n",
    "# input landmarklist\n",
    "# output void\n",
    "def adjustMouse(img, landmarkList):\n",
    "\n",
    "    # get the position of the index\n",
    "    _,mouse_x, mouse_y = landmarkList[8]\n",
    "\n",
    "    # draw the position of the index  \n",
    "    cv2.circle(img,(mouse_x,mouse_y), 10, (255,0,255), -1)\n",
    "\n",
    "    # Get screen size of the primary monitor\n",
    "    monitor = get_monitors()[0]\n",
    "\n",
    "    # Width and height\n",
    "    screen_width = monitor.width\n",
    "    screen_height = monitor.height\n",
    "\n",
    "    # print(f\"Screen width: {width}, Screen height: {height}\")\n",
    "\n",
    "    # get width and heigth of the image\n",
    "    img_height, img_width, _ = img.shape\n",
    "\n",
    "\n",
    "\n",
    "    new_mouse_x = (mouse_x / img_width) * screen_width\n",
    "    new_mouse_y = (mouse_y / img_height) * screen_height\n",
    "    \n",
    "    pyautogui.moveTo(new_mouse_x, new_mouse_y)\n",
    "\n",
    "    \n",
    "\n",
    "\n",
    "    \n",
    "\n",
    "\n",
    "\n",
    "\n",
    "\n",
    "    # pyautogui.moveTo(mouse_x, mouse_y)\n",
    "\n",
    "\n",
    "    \n",
    "\n",
    "    #4 thumb\n",
    "    #8 index\n",
    "    #12 middle\n",
    "    #16 ring\n",
    "    #20 pinky"
   ]
  },
  {
   "cell_type": "code",
   "execution_count": 11,
   "id": "9ae9c61d-d063-4e34-94d1-7c8436fd5ece",
   "metadata": {},
   "outputs": [
    {
     "name": "stderr",
     "output_type": "stream",
     "text": [
      "I0000 00:00:1742107275.711166       1 gl_context.cc:344] GL version: 2.1 (2.1 Metal - 76.3), renderer: Apple M1\n"
     ]
    },
    {
     "ename": "",
     "evalue": "",
     "output_type": "error",
     "traceback": [
      "\u001b[1;31mThe Kernel crashed while executing code in the the current cell or a previous cell. Please review the code in the cell(s) to identify a possible cause of the failure. Click <a href='https://aka.ms/vscodeJupyterKernelCrash'>here</a> for more info. View Jupyter <a href='command:jupyter.viewOutput'>log</a> for further details."
     ]
    }
   ],
   "source": [
    "if __name__ == \"__main__\":\n",
    "    cap = cv2.VideoCapture(0)\n",
    "    detector = HandDetector()\n",
    "    \n",
    "    \n",
    "    while True:\n",
    "        success, img = cap.read()\n",
    "        \n",
    "        flipped_frame = cv2.flip(img, 1)   # fliping the image\n",
    "        img = detector.findHands(flipped_frame)\n",
    "        landmarkList = detector.findPosition(img)\n",
    "\n",
    "        if len(landmarkList) != 0:\n",
    "            \n",
    "            hg = detector.naturalGrasps_gestureRecognizer(landmarkList)\n",
    "            cv2.putText(img, hg, (landmarkList[0][1]-50, landmarkList[0][2]-300), cv2.FONT_HERSHEY_PLAIN, 2, (0,0,255),2)\n",
    "            \n",
    "            adjustMouse(img, landmarkList)\n",
    "            \n",
    "            \n",
    "        cv2.imshow(\"Hand Tracking\", img)\n",
    "        \n",
    "        if cv2.waitKey(1) == ord('q'):\n",
    "            break\n",
    "    \n",
    "    cv2.destroyAllWindows()\n",
    "    cap.release()"
   ]
  },
  {
   "cell_type": "markdown",
   "id": "38f04852",
   "metadata": {},
   "source": []
  },
  {
   "cell_type": "code",
   "execution_count": null,
   "id": "77777bca",
   "metadata": {},
   "outputs": [],
   "source": []
  },
  {
   "cell_type": "markdown",
   "id": "b9e3ae70",
   "metadata": {},
   "source": []
  },
  {
   "cell_type": "code",
   "execution_count": null,
   "id": "7a9b93ce",
   "metadata": {},
   "outputs": [],
   "source": []
  },
  {
   "cell_type": "code",
   "execution_count": null,
   "id": "bcad1648",
   "metadata": {},
   "outputs": [],
   "source": []
  },
  {
   "cell_type": "code",
   "execution_count": null,
   "id": "2a356bd2",
   "metadata": {},
   "outputs": [],
   "source": []
  }
 ],
 "metadata": {
  "kernelspec": {
   "display_name": "Python 3",
   "language": "python",
   "name": "python3"
  },
  "language_info": {
   "codemirror_mode": {
    "name": "ipython",
    "version": 3
   },
   "file_extension": ".py",
   "mimetype": "text/x-python",
   "name": "python",
   "nbconvert_exporter": "python",
   "pygments_lexer": "ipython3",
   "version": "3.10.7"
  },
  "vscode": {
   "interpreter": {
    "hash": "aee8b7b246df8f9039afb4144a1f6fd8d2ca17a180786b69acc140d282b71a49"
   }
  }
 },
 "nbformat": 4,
 "nbformat_minor": 5
}
